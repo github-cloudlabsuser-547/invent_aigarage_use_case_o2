{
 "cells": [
  {
   "cell_type": "code",
   "execution_count": 1,
   "metadata": {},
   "outputs": [],
   "source": [
    "import pandas as pd\n",
    "\n",
    "df = pd.read_csv(\"extracted_data.csv\")"
   ]
  },
  {
   "cell_type": "code",
   "execution_count": 2,
   "metadata": {},
   "outputs": [],
   "source": [
    "df = df.iloc[:2, :]"
   ]
  },
  {
   "cell_type": "code",
   "execution_count": 3,
   "metadata": {},
   "outputs": [
    {
     "name": "stdout",
     "output_type": "stream",
     "text": [
      "Patent text for ID patent/US10427604B2/en saved successfully.\n",
      "Patent text for ID patent/US20210234767A1/en saved successfully.\n",
      "All patent texts saved successfully.\n"
     ]
    }
   ],
   "source": [
    "from openai import AzureOpenAI\n",
    "import os\n",
    "import dotenv\n",
    "\n",
    "dotenv.load_dotenv()\n",
    "\n",
    "client = AzureOpenAI(\n",
    "    api_key=os.getenv(\"AZURE_OPENAI_API_KEY\"),  \n",
    "    api_version=\"2024-03-01-preview\",\n",
    "    azure_endpoint=os.getenv(\"AZURE_OPENAI_ENDPOINT\")\n",
    ")\n",
    "\n",
    "# Function to generate synthetic patent text\n",
    "def generate_patent_text(title):\n",
    "    prompt = f\"Create a text to simulate a patent in the automotive industry on \\\"{title}\\\"\"\n",
    "    deployment_name = \"gpt-35-turbo-instruct\"\n",
    "    response = client.completions.create(\n",
    "        model=deployment_name,\n",
    "        prompt=prompt,\n",
    "        temperature=0.7,\n",
    "        max_tokens=800\n",
    "    )\n",
    "    return response.choices[0].text.strip()\n",
    "\n",
    "# Function to save synthetic patent text to file\n",
    "def save_patent_text_to_file(id, text):\n",
    "    directory = \"synthetic_patents\"\n",
    "    if not os.path.exists(directory):\n",
    "        os.makedirs(directory)\n",
    "    with open(os.path.join(directory, f\"{id.replace(\"/\", \"_\")}.txt\"), \"w\") as file:\n",
    "        file.write(text)\n",
    "\n",
    "# Generate synthetic patent texts and save them to files\n",
    "for index, row in df.iterrows():\n",
    "    title = row['title']\n",
    "    patent_text = generate_patent_text(title)\n",
    "    save_patent_text_to_file(row['patent_id'], patent_text)\n",
    "    print(f\"Patent text for ID {row['patent_id']} saved successfully.\")\n",
    "\n",
    "print(\"All patent texts saved successfully.\")\n"
   ]
  },
  {
   "cell_type": "code",
   "execution_count": 4,
   "metadata": {},
   "outputs": [],
   "source": [
    "\n",
    "# Create an empty list to store text data\n",
    "text_data = []\n",
    "\n",
    "\n",
    "# Function to read text files and return text content\n",
    "def read_text_file(file_path):\n",
    "    with open(file_path, \"r\") as file:\n",
    "        return file.read()\n",
    "    \n",
    "# Iterate over each row in the DataFrame\n",
    "for index, row in df.iterrows():\n",
    "    # Read the corresponding text file\n",
    "    file_path = f\"synthetic_patents/{row['patent_id'].replace(\"/\", \"_\")}.txt\"\n",
    "    if os.path.exists(file_path):\n",
    "        text_content = read_text_file(file_path)\n",
    "        text_data.append({\"patent_id\": row[\"patent_id\"], \"text\": text_content})\n",
    "\n",
    "# Create a DataFrame from the text data\n",
    "text_df = pd.DataFrame(text_data)\n",
    "\n",
    "# Join the text DataFrame with the original DataFrame on the \"id\" column\n",
    "merged_df = pd.merge(df, text_df, on=\"patent_id\", how=\"left\")"
   ]
  },
  {
   "cell_type": "code",
   "execution_count": 5,
   "metadata": {},
   "outputs": [
    {
     "data": {
      "text/html": [
       "<div>\n",
       "<style scoped>\n",
       "    .dataframe tbody tr th:only-of-type {\n",
       "        vertical-align: middle;\n",
       "    }\n",
       "\n",
       "    .dataframe tbody tr th {\n",
       "        vertical-align: top;\n",
       "    }\n",
       "\n",
       "    .dataframe thead th {\n",
       "        text-align: right;\n",
       "    }\n",
       "</style>\n",
       "<table border=\"1\" class=\"dataframe\">\n",
       "  <thead>\n",
       "    <tr style=\"text-align: right;\">\n",
       "      <th></th>\n",
       "      <th>position</th>\n",
       "      <th>rank</th>\n",
       "      <th>patent_id</th>\n",
       "      <th>serpapi_link</th>\n",
       "      <th>title</th>\n",
       "      <th>priority_date</th>\n",
       "      <th>filing_date</th>\n",
       "      <th>grant_date</th>\n",
       "      <th>publication_date</th>\n",
       "      <th>inventor</th>\n",
       "      <th>assignee</th>\n",
       "      <th>publication_number</th>\n",
       "      <th>language</th>\n",
       "      <th>thumbnail</th>\n",
       "      <th>pdf</th>\n",
       "      <th>page</th>\n",
       "      <th>text</th>\n",
       "    </tr>\n",
       "  </thead>\n",
       "  <tbody>\n",
       "    <tr>\n",
       "      <th>0</th>\n",
       "      <td>1</td>\n",
       "      <td>0</td>\n",
       "      <td>patent/US10427604B2/en</td>\n",
       "      <td>https://serpapi.com/search.json?engine=google_...</td>\n",
       "      <td>Vision system for a vehicle</td>\n",
       "      <td>2000-03-02</td>\n",
       "      <td>2018-08-27</td>\n",
       "      <td>2019-10-01</td>\n",
       "      <td>2019-10-01</td>\n",
       "      <td>Kenneth Schofield</td>\n",
       "      <td>Magna Electronics Inc.</td>\n",
       "      <td>US10427604B2</td>\n",
       "      <td>en</td>\n",
       "      <td>https://patentimages.storage.googleapis.com/24...</td>\n",
       "      <td>https://patentimages.storage.googleapis.com/57...</td>\n",
       "      <td>1.0</td>\n",
       "      <td>Title: Vision System for a Vehicle\\n\\nAbstract...</td>\n",
       "    </tr>\n",
       "    <tr>\n",
       "      <th>1</th>\n",
       "      <td>2</td>\n",
       "      <td>1</td>\n",
       "      <td>patent/US20210234767A1/en</td>\n",
       "      <td>https://serpapi.com/search.json?engine=google_...</td>\n",
       "      <td>Vehicle middleware</td>\n",
       "      <td>2011-11-16</td>\n",
       "      <td>2021-04-16</td>\n",
       "      <td>NaN</td>\n",
       "      <td>2021-07-29</td>\n",
       "      <td>Christopher P. Ricci</td>\n",
       "      <td>Autoconnect Holdings Llc</td>\n",
       "      <td>US20210234767A1</td>\n",
       "      <td>en</td>\n",
       "      <td>https://patentimages.storage.googleapis.com/aa...</td>\n",
       "      <td>https://patentimages.storage.googleapis.com/42...</td>\n",
       "      <td>1.0</td>\n",
       "      <td>Title: Vehicle Middleware for Efficient Data T...</td>\n",
       "    </tr>\n",
       "  </tbody>\n",
       "</table>\n",
       "</div>"
      ],
      "text/plain": [
       "   position  rank                  patent_id  \\\n",
       "0         1     0     patent/US10427604B2/en   \n",
       "1         2     1  patent/US20210234767A1/en   \n",
       "\n",
       "                                        serpapi_link  \\\n",
       "0  https://serpapi.com/search.json?engine=google_...   \n",
       "1  https://serpapi.com/search.json?engine=google_...   \n",
       "\n",
       "                         title priority_date filing_date  grant_date  \\\n",
       "0  Vision system for a vehicle    2000-03-02  2018-08-27  2019-10-01   \n",
       "1           Vehicle middleware    2011-11-16  2021-04-16         NaN   \n",
       "\n",
       "  publication_date              inventor                  assignee  \\\n",
       "0       2019-10-01     Kenneth Schofield    Magna Electronics Inc.   \n",
       "1       2021-07-29  Christopher P. Ricci  Autoconnect Holdings Llc   \n",
       "\n",
       "  publication_number language  \\\n",
       "0       US10427604B2       en   \n",
       "1    US20210234767A1       en   \n",
       "\n",
       "                                           thumbnail  \\\n",
       "0  https://patentimages.storage.googleapis.com/24...   \n",
       "1  https://patentimages.storage.googleapis.com/aa...   \n",
       "\n",
       "                                                 pdf  page  \\\n",
       "0  https://patentimages.storage.googleapis.com/57...   1.0   \n",
       "1  https://patentimages.storage.googleapis.com/42...   1.0   \n",
       "\n",
       "                                                text  \n",
       "0  Title: Vision System for a Vehicle\\n\\nAbstract...  \n",
       "1  Title: Vehicle Middleware for Efficient Data T...  "
      ]
     },
     "execution_count": 5,
     "metadata": {},
     "output_type": "execute_result"
    }
   ],
   "source": [
    "merged_df\n"
   ]
  },
  {
   "cell_type": "markdown",
   "metadata": {},
   "source": [
    "Chunking"
   ]
  },
  {
   "cell_type": "code",
   "execution_count": 6,
   "metadata": {},
   "outputs": [],
   "source": [
    "from langchain.text_splitter import RecursiveCharacterTextSplitter\n",
    "\n",
    "text_splitter_char = RecursiveCharacterTextSplitter(\n",
    "    chunk_size = 512,\n",
    "    chunk_overlap  = 20,\n",
    "    length_function = len,\n",
    "    separators=[\"<ele>\", \". \", \" \"],\n",
    "    keep_separator=False\n",
    ")"
   ]
  },
  {
   "cell_type": "code",
   "execution_count": 7,
   "metadata": {},
   "outputs": [],
   "source": [
    "import pandas as pd\n",
    "\n",
    "def chunk_documents(content_df: pd.DataFrame, text_splitter, word_count_threshold: int = 10, element_separator: str = \"<ele>\") -> pd.DataFrame:\n",
    "    \"\"\"\n",
    "    Split a document into chunks according to the configuration of the text splitter\n",
    "    \"\"\"\n",
    "\n",
    "    \n",
    "    # Split content into chunks\n",
    "    content_df[\"text_chunks\"] = content_df[\"text\"].apply(text_splitter.split_text)\n",
    "    content_df = content_df.explode(\"text_chunks\")\n",
    "    content_df[\"text_chunks\"] = content_df[\"text_chunks\"].str.replace(element_separator, \", \")\n",
    "    \n",
    "    content_df[\"text_chunks\"] = content_df[\"title\"] + \": \" + content_df[\"text_chunks\"]\n",
    "    \n",
    "    # Drop failed extractions\n",
    "    print(f'Files with extraction errors: {set(content_df[content_df[\"text_chunks\"].isna()][\"title\"].to_list())}')\n",
    "    content_df = content_df.dropna(axis=0, subset=[\"text_chunks\"])\n",
    "    \n",
    "    # Drop chunks with less words than the threshold allows\n",
    "    content_df = content_df[content_df[\"text_chunks\"].apply(lambda n: len(n.split())) > word_count_threshold]\n",
    "\n",
    "    return content_df\n",
    "\n",
    "# Example usage:\n",
    "# chunked_df = chunk_documents(df, text_splitter_char)\n"
   ]
  },
  {
   "cell_type": "code",
   "execution_count": 8,
   "metadata": {},
   "outputs": [
    {
     "name": "stdout",
     "output_type": "stream",
     "text": [
      "Files with extraction errors: set()\n"
     ]
    }
   ],
   "source": [
    "\n",
    "chunk_df = chunk_documents(merged_df, text_splitter_char)"
   ]
  },
  {
   "cell_type": "code",
   "execution_count": 9,
   "metadata": {},
   "outputs": [
    {
     "data": {
      "text/plain": [
       "array(['Vision system for a vehicle: Title: Vision System for a Vehicle\\n\\nAbstract:\\n\\nThe present invention relates to a vision system for a vehicle, particularly for use in automobiles. The system comprises of a set of cameras and sensors placed strategically around the vehicle to provide a comprehensive and real-time view of the vehicle’s surroundings',\n",
       "       'Vision system for a vehicle: The collected data is then processed and analyzed to provide the driver with enhanced situational awareness, enabling them to make informed decisions while driving.\\n\\nBackground:\\n\\nThe automotive industry has witnessed a significant increase in the use of advanced driver assistance systems (ADAS) to improve vehicle safety and performance. These systems heavily rely on various sensors and cameras to provide a 360-degree view of the vehicle’s surroundings',\n",
       "       'Vision system for a vehicle: However, the existing systems have limitations in terms of accuracy, reliability, and cost. Therefore, there is a need for an improved vision system that can address these issues and provide a more robust solution.\\n\\nSummary of the Invention:\\n\\nThe vision system for a vehicle of the present invention comprises of a set of cameras and sensors placed at strategic locations around the vehicle. The cameras are positioned in a way to cover all blind spots and provide a complete view of the vehicle’s surroundings'],\n",
       "      dtype=object)"
      ]
     },
     "execution_count": 9,
     "metadata": {},
     "output_type": "execute_result"
    }
   ],
   "source": [
    "chunk_df.text_chunks.values[:3]"
   ]
  },
  {
   "cell_type": "markdown",
   "metadata": {},
   "source": [
    "NER"
   ]
  },
  {
   "cell_type": "code",
   "execution_count": 34,
   "metadata": {},
   "outputs": [],
   "source": [
    "import os\n",
    "import pandas as pd\n",
    "import ast\n",
    "\n",
    "# Initialize AzureOpenAI client\n",
    "client = AzureOpenAI(\n",
    "    api_key=os.getenv(\"AZURE_OPENAI_API_KEY\"),  \n",
    "    api_version=\"2024-03-01-preview\",\n",
    "    azure_endpoint=os.getenv(\"AZURE_OPENAI_ENDPOINT\")\n",
    ")\n",
    "\n",
    "# Few-shot prompt for entity extraction\n",
    "few_shot_prompt = \"\"\"RETURN ONLY A VALID JSON OBJECT!!! NO ADDITIONAL TEXT\n",
    "\n",
    "Extract relevant entities such as people, technologies, places, and organizations from the given text.\n",
    "\n",
    "Example 1:\n",
    "Text: \"The invention relates to an advanced LiDAR technology for environmental perception.\"\n",
    "{\"technologies\": [\"LiDAR\"], \"places\": [], \"people\": [], \"organizations\": []}\n",
    "\n",
    "\n",
    "Example 2:\n",
    "Text: \"The vehicle was tested in urban environments such as New York City and Los Angeles.\"\n",
    "{\"technologies\": [], \"places\": [\"New York City\", \"Los Angeles\"], \"people\": [], \"organizations\": []}\n",
    "\n",
    "Example 3:\n",
    "Text: \"The engineers John Smith and Alice Johnson collaborated on the development of the navigation system.\"\n",
    "{\"technologies\": [\"navigation system\"], \"places\": [], \"people\": [\"John Smith\", \"Alice Johnson\"], \"organizations\": []}\n",
    "\n",
    "Example 4:\n",
    "Text: \"The company XYZ Inc. funded the research project on autonomous vehicle navigation.\"\n",
    "{\"technologies\": [\"autonomous vehicle navigation\"], \"places\": [], \"people\": [], \"organizations\": [\"XYZ Inc.\"]}\n",
    "\n",
    "Example 4:\n",
    "Text: \"A glass filled with liquids.\"\n",
    "{\"technologies\": [], \"places\": [], \"people\": [], \"organizations\": []}\n",
    "\n",
    "\n",
    "RETURN ONLY A VALID JSON OBJECT!!! NO ADDITIOANL TEXT. JUST A JSON\n",
    "IF THERE ARE NOT ENTITIES RETURN AN EMPTY JSON\n",
    "---\"\"\"\n",
    "\n",
    "\n",
    "# Function to extract entities from text using Azure OpenAI API\n",
    "def extract_entities(text):\n",
    "    prompt = f\"{few_shot_prompt}\\nText: \\\"{text}\\\"\\n\"\n",
    "    deployment_name = \"gpt-35-turbo-instruct\"\n",
    "    response = client.completions.create(\n",
    "        model=deployment_name,\n",
    "        prompt=prompt,\n",
    "        max_tokens=100,\n",
    "        temperature=0.3,\n",
    "        top_p=1,\n",
    "        stop=[\"\\n\"]\n",
    "    )\n",
    "    # Parse the response as JSON\n",
    "    entities_json = response.choices[0].text.strip()\n",
    "    return entities_json\n",
    "\n",
    "\n",
    "# Create an empty list to store extracted entity data\n",
    "entity_data = []\n",
    "\n",
    "# Iterate over each row in the DataFrame\n",
    "for index, row in chunk_df.iterrows():\n",
    "    text = row[\"text_chunks\"]\n",
    "    # Extract entities from the text\n",
    "    entities = extract_entities(text)\n",
    "    if entities is not None:\n",
    "        entity_data.append(entities)\n",
    "    else:\n",
    "        entity_data.append('')\n",
    "\n",
    "\n",
    "chunk_df[\"entities\"] = entity_data"
   ]
  },
  {
   "cell_type": "code",
   "execution_count": 35,
   "metadata": {},
   "outputs": [
    {
     "name": "stdout",
     "output_type": "stream",
     "text": [
      "True\n"
     ]
    }
   ],
   "source": [
    "from utils.retriever import retriever_model_inference\n",
    "\n",
    "chunk_df[\"embeddings\"] = retriever_model_inference(chunk_df.text_chunks.values.tolist())"
   ]
  },
  {
   "cell_type": "code",
   "execution_count": 42,
   "metadata": {},
   "outputs": [
    {
     "data": {
      "text/plain": [
       "(1536,)"
      ]
     },
     "execution_count": 42,
     "metadata": {},
     "output_type": "execute_result"
    }
   ],
   "source": [
    "chunk_df[\"embeddings\"].values[0].shape"
   ]
  },
  {
   "cell_type": "code",
   "execution_count": 61,
   "metadata": {},
   "outputs": [
    {
     "name": "stdout",
     "output_type": "stream",
     "text": [
      "Index initialized\n",
      "Shape of input vectors: (17, 1536)\n",
      "Index trained\n",
      "Vectors added to index\n"
     ]
    }
   ],
   "source": [
    "vector_dim=1536\n",
    "partition_nr=10\n",
    "\n",
    "from utils.faiss_storage import index_initializaton, train_index, add_index_vectors\n",
    "import numpy as np\n",
    "import faiss\n",
    "\n",
    "# 1. initialize index\n",
    "#index = index_initializaton(vector_dim, partition_nr)\n",
    "path_to_index = \"a4_db_data.index\"\n",
    "\n",
    "def check_index_state(index):\n",
    "    return index.is_trained\n",
    "\n",
    "def vector_db_setup(\n",
    "    vector_dim: int, partition_nr: int, df: pd.DataFrame\n",
    "):\n",
    "    # 1. initialize index\n",
    "    index = index_initializaton(vector_dim, partition_nr)\n",
    "    print(\"Index initialized\")\n",
    "\n",
    "    # 2. check index state - and train if required\n",
    "    if check_index_state(index):\n",
    "        pass\n",
    "    else:\n",
    "        vectors = df[\"embeddings\"].values\n",
    "        vectors = np.array([i.astype(np.float32) for i in chunk_df[\"embeddings\"].values])\n",
    "        print(\"Shape of input vectors:\", vectors.shape)\n",
    "        train_index(index, vectors)\n",
    "        print(\"Index trained\")\n",
    "        # 3. add vectors to index\n",
    "        add_index_vectors(index, vectors)\n",
    "        print(\"Vectors added to index\")\n",
    "\n",
    "    return index\n",
    "\n",
    "\n",
    "\n",
    "index = vector_db_setup(vector_dim, partition_nr, chunk_df)"
   ]
  },
  {
   "cell_type": "code",
   "execution_count": 62,
   "metadata": {},
   "outputs": [],
   "source": [
    "faiss.write_index(index, path_to_index)"
   ]
  },
  {
   "cell_type": "code",
   "execution_count": 63,
   "metadata": {},
   "outputs": [
    {
     "data": {
      "text/plain": [
       "17"
      ]
     },
     "execution_count": 63,
     "metadata": {},
     "output_type": "execute_result"
    }
   ],
   "source": [
    "index = faiss.read_index(path_to_index)\n",
    "index.ntotal"
   ]
  },
  {
   "cell_type": "code",
   "execution_count": 65,
   "metadata": {},
   "outputs": [],
   "source": [
    "chunk_df.drop(columns=[\"embeddings\"]).to_csv(\"a4_db_data.csv\", index=False)"
   ]
  },
  {
   "cell_type": "code",
   "execution_count": 67,
   "metadata": {},
   "outputs": [
    {
     "data": {
      "text/html": [
       "<div>\n",
       "<style scoped>\n",
       "    .dataframe tbody tr th:only-of-type {\n",
       "        vertical-align: middle;\n",
       "    }\n",
       "\n",
       "    .dataframe tbody tr th {\n",
       "        vertical-align: top;\n",
       "    }\n",
       "\n",
       "    .dataframe thead th {\n",
       "        text-align: right;\n",
       "    }\n",
       "</style>\n",
       "<table border=\"1\" class=\"dataframe\">\n",
       "  <thead>\n",
       "    <tr style=\"text-align: right;\">\n",
       "      <th></th>\n",
       "      <th>position</th>\n",
       "      <th>rank</th>\n",
       "      <th>patent_id</th>\n",
       "      <th>serpapi_link</th>\n",
       "      <th>title</th>\n",
       "      <th>priority_date</th>\n",
       "      <th>filing_date</th>\n",
       "      <th>grant_date</th>\n",
       "      <th>publication_date</th>\n",
       "      <th>inventor</th>\n",
       "      <th>assignee</th>\n",
       "      <th>publication_number</th>\n",
       "      <th>language</th>\n",
       "      <th>thumbnail</th>\n",
       "      <th>pdf</th>\n",
       "      <th>page</th>\n",
       "      <th>text</th>\n",
       "      <th>text_chunks</th>\n",
       "      <th>entities</th>\n",
       "    </tr>\n",
       "  </thead>\n",
       "  <tbody>\n",
       "    <tr>\n",
       "      <th>0</th>\n",
       "      <td>1</td>\n",
       "      <td>0</td>\n",
       "      <td>patent/US10427604B2/en</td>\n",
       "      <td>https://serpapi.com/search.json?engine=google_...</td>\n",
       "      <td>Vision system for a vehicle</td>\n",
       "      <td>2000-03-02</td>\n",
       "      <td>2018-08-27</td>\n",
       "      <td>2019-10-01</td>\n",
       "      <td>2019-10-01</td>\n",
       "      <td>Kenneth Schofield</td>\n",
       "      <td>Magna Electronics Inc.</td>\n",
       "      <td>US10427604B2</td>\n",
       "      <td>en</td>\n",
       "      <td>https://patentimages.storage.googleapis.com/24...</td>\n",
       "      <td>https://patentimages.storage.googleapis.com/57...</td>\n",
       "      <td>1.0</td>\n",
       "      <td>Title: Vision System for a Vehicle\\n\\nAbstract...</td>\n",
       "      <td>Vision system for a vehicle: Title: Vision Sys...</td>\n",
       "      <td>NaN</td>\n",
       "    </tr>\n",
       "    <tr>\n",
       "      <th>1</th>\n",
       "      <td>1</td>\n",
       "      <td>0</td>\n",
       "      <td>patent/US10427604B2/en</td>\n",
       "      <td>https://serpapi.com/search.json?engine=google_...</td>\n",
       "      <td>Vision system for a vehicle</td>\n",
       "      <td>2000-03-02</td>\n",
       "      <td>2018-08-27</td>\n",
       "      <td>2019-10-01</td>\n",
       "      <td>2019-10-01</td>\n",
       "      <td>Kenneth Schofield</td>\n",
       "      <td>Magna Electronics Inc.</td>\n",
       "      <td>US10427604B2</td>\n",
       "      <td>en</td>\n",
       "      <td>https://patentimages.storage.googleapis.com/24...</td>\n",
       "      <td>https://patentimages.storage.googleapis.com/57...</td>\n",
       "      <td>1.0</td>\n",
       "      <td>Title: Vision System for a Vehicle\\n\\nAbstract...</td>\n",
       "      <td>Vision system for a vehicle: The collected dat...</td>\n",
       "      <td>{\"technologies\": [\"Vision system\", \"advanced d...</td>\n",
       "    </tr>\n",
       "    <tr>\n",
       "      <th>2</th>\n",
       "      <td>1</td>\n",
       "      <td>0</td>\n",
       "      <td>patent/US10427604B2/en</td>\n",
       "      <td>https://serpapi.com/search.json?engine=google_...</td>\n",
       "      <td>Vision system for a vehicle</td>\n",
       "      <td>2000-03-02</td>\n",
       "      <td>2018-08-27</td>\n",
       "      <td>2019-10-01</td>\n",
       "      <td>2019-10-01</td>\n",
       "      <td>Kenneth Schofield</td>\n",
       "      <td>Magna Electronics Inc.</td>\n",
       "      <td>US10427604B2</td>\n",
       "      <td>en</td>\n",
       "      <td>https://patentimages.storage.googleapis.com/24...</td>\n",
       "      <td>https://patentimages.storage.googleapis.com/57...</td>\n",
       "      <td>1.0</td>\n",
       "      <td>Title: Vision System for a Vehicle\\n\\nAbstract...</td>\n",
       "      <td>Vision system for a vehicle: However, the exis...</td>\n",
       "      <td>{\"technologies\": [], \"places\": [], \"people\": [...</td>\n",
       "    </tr>\n",
       "  </tbody>\n",
       "</table>\n",
       "</div>"
      ],
      "text/plain": [
       "   position  rank               patent_id                                       serpapi_link                        title priority_date filing_date  grant_date publication_date           inventor                assignee publication_number language                                          thumbnail                                                pdf  page                                               text                                        text_chunks  \\\n",
       "0         1     0  patent/US10427604B2/en  https://serpapi.com/search.json?engine=google_...  Vision system for a vehicle    2000-03-02  2018-08-27  2019-10-01       2019-10-01  Kenneth Schofield  Magna Electronics Inc.       US10427604B2       en  https://patentimages.storage.googleapis.com/24...  https://patentimages.storage.googleapis.com/57...   1.0  Title: Vision System for a Vehicle\\n\\nAbstract...  Vision system for a vehicle: Title: Vision Sys...   \n",
       "1         1     0  patent/US10427604B2/en  https://serpapi.com/search.json?engine=google_...  Vision system for a vehicle    2000-03-02  2018-08-27  2019-10-01       2019-10-01  Kenneth Schofield  Magna Electronics Inc.       US10427604B2       en  https://patentimages.storage.googleapis.com/24...  https://patentimages.storage.googleapis.com/57...   1.0  Title: Vision System for a Vehicle\\n\\nAbstract...  Vision system for a vehicle: The collected dat...   \n",
       "2         1     0  patent/US10427604B2/en  https://serpapi.com/search.json?engine=google_...  Vision system for a vehicle    2000-03-02  2018-08-27  2019-10-01       2019-10-01  Kenneth Schofield  Magna Electronics Inc.       US10427604B2       en  https://patentimages.storage.googleapis.com/24...  https://patentimages.storage.googleapis.com/57...   1.0  Title: Vision System for a Vehicle\\n\\nAbstract...  Vision system for a vehicle: However, the exis...   \n",
       "\n",
       "                                            entities  \n",
       "0                                                NaN  \n",
       "1  {\"technologies\": [\"Vision system\", \"advanced d...  \n",
       "2  {\"technologies\": [], \"places\": [], \"people\": [...  "
      ]
     },
     "execution_count": 67,
     "metadata": {},
     "output_type": "execute_result"
    }
   ],
   "source": [
    "pd.read_csv(\"a4_db_data.csv\").head(3)"
   ]
  },
  {
   "cell_type": "code",
   "execution_count": null,
   "metadata": {},
   "outputs": [],
   "source": []
  }
 ],
 "metadata": {
  "kernelspec": {
   "display_name": "Python 3",
   "language": "python",
   "name": "python3"
  },
  "language_info": {
   "codemirror_mode": {
    "name": "ipython",
    "version": 3
   },
   "file_extension": ".py",
   "mimetype": "text/x-python",
   "name": "python",
   "nbconvert_exporter": "python",
   "pygments_lexer": "ipython3",
   "version": "3.12.2"
  }
 },
 "nbformat": 4,
 "nbformat_minor": 2
}
